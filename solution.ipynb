{
 "cells": [
  {
   "cell_type": "markdown",
   "id": "96ebea91",
   "metadata": {},
   "source": [
    "# CS 506 Spring 2021 - HW3\n",
    "## Social Networks and Recommendataion Systems\n",
    "#### Total: 25 Points\n",
    "\n",
    "##### Package Limitations: None\n",
    "\n",
    "### 1. Background\n",
    "\n",
    "In this homework, you will try to recommend new collaborations to researchers of the Machine Learning community. Our approach will follow the guidelines of collaborative filtering: “**If your past behavior/preferences were similar to some other user’s, your future behavior may be as well**”. As an example, imagine you like Rolling Stones, Beatles and Jimmy Hendrix. It turns out that most people that like the aforementioned artists, are also fans of Eric Clapton. Then, it is very likely that if you listen to Eric Clapton’s music, you will like it as well.\n",
    "\n",
    "In this assignment you will implement a **collaborative filtering recommendation system** for suggesting new collaborations to Machine Learning researchers.\n",
    "\n",
    "**A network as a graph**: A graph or network represents relationships among different entities (users of a social network, researchers, products, etc.). Those entities are represented as nodes and the relationships between them (friends on Facebook, co-authors of a research paper, products purchased together) as edges. When there is an edge between two nodes, x and y, we say that y is a neighbor (or friend) of x (and also - as the graphs we consider are undirected - x is also a neighbor of y).\n",
    "\n",
    "**Representing a graph in Python**: A widely used library in Python, for representing graphs is [NetworkX](https://networkx.github.io/documentation/stable/). You can read the documentation for more information on how to use this library."
   ]
  },
  {
   "cell_type": "markdown",
   "id": "7ddaeed6",
   "metadata": {},
   "source": [
    "### 2. Recommend new collaborations - The ML Community case \n",
    "\n",
    "In order to provide new collaborations and test the efficiency of the methods used, you are given two files (you can find them on piazza):\n",
    "\n",
    "- ”old edges.txt”: In this file, every line contains the names of two re- searchers that have co-authored a paper in one of the top Machine Learn- ing conferences (NeurIPS, ICLR, ICML) between 2010 and 2016.\n",
    "- ”new edges.txt”: In this file, every line contains the names of two re- searchers (from those existing in the above file) that formed a new (non- existing before) collaboration, in either 2017 and 2018.\n",
    "\n",
    "With the first file in hand, you will answer the following question:\n",
    "“For author X, list some non-collaborators in order, starting with the best col- laborator recommendation and ending with the worst”. A non-friend is a user who is not X and is not a collaborator of X. Depending on the recommendation algorithm you are going to choose, the list may include all non-collaborators or some of them.\n",
    "\n",
    "Then, using the second file, with actual new collaborations formed in the next 3 years, you will test the efficiency of these algorithms.\n"
   ]
  },
  {
   "cell_type": "markdown",
   "id": "e8584653",
   "metadata": {},
   "source": [
    "### Tasks\n",
    "a) [3 pts.] Write a function that reads the file “old edges.txt” and create a graph using NetworkX. (This is a tab-separated value (TSV) file, you may use packages such as Pandas to read it. )\n"
   ]
  },
  {
   "cell_type": "code",
   "execution_count": 1,
   "id": "577ad858",
   "metadata": {},
   "outputs": [],
   "source": [
    "# You can add functions, inputs outputs to existing functions. \n",
    "# Please do NOT change name of the existing functions\n",
    "\n",
    "from typing import Tuple, List, Dict, Callable\n",
    "import networkx as nx\n",
    "\n",
    "def read_old_edges(file_path: str) -> nx.Graph:\n",
    "    \"\"\"\n",
    "    read old edges text file and return a NetworkX graph\n",
    "    \n",
    "    :param file_path: string file path to old_edges.txt\n",
    "    :return: network graph instance of the graph\n",
    "    \"\"\"\n",
    "    # graph = instance of nx graph\n",
    "    graph = nx.Graph()\n",
    "    graph = nx.read_edgelist(file_path,\n",
    "                             delimiter= \"\\t\",\n",
    "                             nodetype = str)\n",
    "    \n",
    "    return graph"
   ]
  },
  {
   "cell_type": "markdown",
   "id": "7e6455b0",
   "metadata": {},
   "source": [
    "b) [3 pts.] Write a function that reads the file “new edges.txt” and for each author, keeps track of the new collaborations this user formed during 2017-2018.\n"
   ]
  },
  {
   "cell_type": "code",
   "execution_count": 2,
   "id": "b97c9967",
   "metadata": {},
   "outputs": [],
   "source": [
    "def read_new_edges(file_path: str):\n",
    "    \"\"\"\n",
    "    read new edges text file\n",
    "    \n",
    "    :param file_path: string file path to new_edges.txt\n",
    "    :return: (you decide)\n",
    "    \"\"\"\n",
    "    graph = read_old_edges(file_path)\n",
    "    nodes = graph.nodes()\n",
    "    arr = [[node] + list(graph.neighbors(node)) for node in nodes]\n",
    "    return arr"
   ]
  },
  {
   "cell_type": "code",
   "execution_count": 3,
   "id": "5d0f159d",
   "metadata": {},
   "outputs": [],
   "source": [
    "old = read_old_edges('old_edges.txt')\n",
    "new = read_new_edges('new_edges.txt')"
   ]
  },
  {
   "cell_type": "markdown",
   "id": "14b0c52e",
   "metadata": {},
   "source": [
    "In 2017 and 2018, there were 1,757 new edges formed between existing authors. For the next tasks, pick (and recommend new collaborations for) those authors that formed at least 10 new connections between 2017-2018. In the remaining, when we talk about author X, we refer to one of those authors.\n",
    "\n",
    "c) [5 pts.] **Recommend by number of common friends**\n",
    "\n",
    "The intuition behind this recommendation algorithm is that if non-friend Y is your friend’s friend, then maybe Y should be your friend too. If person Y is the friend of many of your friends, then Y is an even better recommendation. "
   ]
  },
  {
   "cell_type": "code",
   "execution_count": 4,
   "id": "53b0758a",
   "metadata": {},
   "outputs": [],
   "source": [
    "def get_network(graph, person):\n",
    "    return set(graph.neighbors(person))\n",
    "\n",
    "def get_peoples(graph, author):\n",
    "    res = []\n",
    "    for person in graph.nodes():\n",
    "        if person != author:\n",
    "            res.append((author,person))\n",
    "    return res\n",
    "\n",
    "def get_commonality(graph, net, author):    \n",
    "    common = {}\n",
    "    for person in net:\n",
    "        a = get_network(graph, author)\n",
    "        p = get_network(graph, person)\n",
    "        num = len( (a).intersection(p) )\n",
    "        if num >= 1:\n",
    "            common[person] = num\n",
    "    # sort dict based on values but keep keys: learned using link below        \n",
    "    # https://stackoverflow.com/questions/613183/how-do-i-sort-a-dictionary-by-value\n",
    "    arr = list(sorted(common.items(), key=lambda item: item[1], reverse=True))\n",
    "    res = [item[0] for item in arr] \n",
    "\n",
    "    return res"
   ]
  },
  {
   "cell_type": "code",
   "execution_count": 5,
   "id": "a4e192c7",
   "metadata": {},
   "outputs": [],
   "source": [
    "def common_friends_number(graph: nx.Graph, author) -> List[str]:\n",
    "    \"\"\"\n",
    "    Return list of authors who have a common neighbor as \n",
    "    given author sorted by number of common friends. \n",
    "    \n",
    "    :param graph: collaboration graph in nextworkX\n",
    "    :return: list of new collaborators' name to recommend\n",
    "    \"\"\"\n",
    "    network = get_network(graph, author)    \n",
    "    net = set()\n",
    "    for person in network:\n",
    "        net.update(name for name in (get_network(graph, person) - network))\n",
    "    net -= {author}\n",
    "    \n",
    "    res = get_commonality(graph, net, author)\n",
    "    return res\n",
    "\n",
    "# common_friends_number(old, 'Pradeep Ravikumar')"
   ]
  },
  {
   "cell_type": "markdown",
   "id": "b84af304",
   "metadata": {},
   "source": [
    "d) [5 pts.] **Make recommendations using Jaccard’s Index**\n",
    "\n",
    "If Γ(X) is the set of neighbors of X, then the metric we used in part (c), assigns to a non-friend y, the following recommendation score (with respect to X): score(y) = |Γ(X)∩Γ(y)|. Jaccard’s Index scales this score by taking into account the union of X and Y ’s neighbors. Intuitively, X and Y are more similar, if what they have in common is as close as possible to what they have together.\n"
   ]
  },
  {
   "cell_type": "code",
   "execution_count": 6,
   "id": "29a76f03",
   "metadata": {},
   "outputs": [],
   "source": [
    "def sort_solution(solution, network):\n",
    "    \n",
    "    ans = sorted([[a, b, c] for a, b, c in solution if c > 0], \n",
    "                 key=lambda item: item[2], reverse=True)\n",
    "\n",
    "    result = [person[1] for person in ans \n",
    "              if person[1] not in network]\n",
    "    \n",
    "    return result"
   ]
  },
  {
   "cell_type": "code",
   "execution_count": 7,
   "id": "318773a0",
   "metadata": {},
   "outputs": [],
   "source": [
    "def jaccard_index(graph: nx.Graph, author) -> List[str]:\n",
    "    \"\"\"\n",
    "    Return list of authors who have a common neighbor as \n",
    "    given author sorted by Jaccard Index (see pdf for equation) \n",
    "    \n",
    "    :param graph: collaboration graph in nextworkX\n",
    "    :return: list of new collaborators' name to recommend\n",
    "    \"\"\"\n",
    "    people = get_peoples(graph, author)\n",
    "    network = list(get_network(graph, author)) + [author]\n",
    "    jaccard = nx.jaccard_coefficient(graph, people)\n",
    "    return sort_solution(jaccard, network)\n",
    "\n",
    "# jaccard_index(old, 'Michael I. Jordan')"
   ]
  },
  {
   "cell_type": "markdown",
   "id": "ee9496c2",
   "metadata": {},
   "source": [
    "e)  [5 pts.] **Make recommendations using Adamic/Adar Index**\n",
    "\n",
    "For part (c), we made recommendations using common neighbors. However, when assigning a score to Y , instead of just taking a count of the number of common neighbors, we take a weighted sum of them, where the weight of each common neighbor of X and Y , call her Z, is the inverse of the logarithm of the number of Z’s neighbors. In that way, we value more common neighbors that are more selective."
   ]
  },
  {
   "cell_type": "code",
   "execution_count": 8,
   "id": "edb418ac",
   "metadata": {},
   "outputs": [],
   "source": [
    "def adamic_adar_index(graph: nx.Graph, author) -> List[str]:\n",
    "    \"\"\"\n",
    "    Return list of recommendations of a given author sorted \n",
    "    by Adamic / Adar Index (see pdf for equation) \n",
    "    \n",
    "    :param graph: collaboration graph in nextworkX\n",
    "    :return: list of new collaborators' name to recommend\n",
    "    \"\"\"\n",
    "    people = get_peoples(graph, author)\n",
    "    network = list(get_network(graph, author)) + [author]\n",
    "    adar = nx.adamic_adar_index(graph, people) \n",
    "    return sort_solution(adar, network)\n",
    "    \n",
    "# adamic_adar_index(old, 'Michael I. Jordan')"
   ]
  },
  {
   "cell_type": "markdown",
   "id": "6b3ca710",
   "metadata": {},
   "source": [
    "f) [4 pts.] **How good are the recommendations we make?** \n",
    "\n",
    "Previously, you implemented 3 functions, that given a user X provide recommendations for this user. In this task, you will check how good these recommendations are using the actual new connections formed during 2017-2018.\n",
    "\n",
    "You will use two different ways, to calculate the efficiency of every approach:\n",
    "\n",
    "- For each user X, take the 10 first recommendations for this user, and calculate the number of them that were actually formed during 2017-2018. You should report the average among users X.\n",
    "\n",
    "- For each newly formed collaboration of user X, calculate the rank of this collaboration (the index where this new node Y appears in the recommendations list for X). Report the average among newly formed edges."
   ]
  },
  {
   "cell_type": "code",
   "execution_count": 9,
   "id": "4f4b2b45",
   "metadata": {},
   "outputs": [],
   "source": [
    "# def top_k_recommendation_accuracy(graph: nx.Graph, index_method: Callable, new_edges) -> float:\n",
    "#     \"\"\"\n",
    "#     Among top k recommendations of every user, return average number \n",
    "#     of recommendations that becomes reality\n",
    "    \n",
    "#     :param graph: collaboration graph in nextworkX\n",
    "#     :param index_method: function that is used to make recommendation\n",
    "#     :param new_edges: (you decide)\n",
    "#     :return: average accuracy of predictions among all users\n",
    "#     \"\"\"\n",
    "#     raise NotImplementedError(\"Implement this!\")\n",
    "    \n",
    "    \n",
    "# def new_collaboration_rank(graph: nx.Graph, index_method: Callable, new_edges) -> float:\n",
    "#     \"\"\"\n",
    "#     Among the new collaborations of every user, return average rank \n",
    "#     of the collaboration calculated by the function\n",
    "    \n",
    "#     :param graph: collaboration graph in nextworkX\n",
    "#     :param index_method: function that is used to make recommendation\n",
    "#     :param new_edges: (you decide)\n",
    "#     :return: average accuracy of predictions among all users\n",
    "#     \"\"\"\n",
    "#     raise NotImplementedError(\"Implement this!\")"
   ]
  },
  {
   "cell_type": "code",
   "execution_count": 10,
   "id": "51207339",
   "metadata": {},
   "outputs": [],
   "source": [
    "def get_old(old):\n",
    "    res = []\n",
    "    for person in dict(old).keys():\n",
    "        res.append(person)\n",
    "    return res\n",
    "\n",
    "def get_new(new):\n",
    "    res = []\n",
    "    for person in dict(new).keys():\n",
    "        value = new[person]\n",
    "        if value >= 10:\n",
    "            res.append(person)\n",
    "    return res\n",
    "\n",
    "def get_intersection(old_degree, new_degree):\n",
    "    old = get_old(old_degree)\n",
    "    new = get_new(new_degree)\n",
    "    both = set(new).intersection(set(old))\n",
    "    return both"
   ]
  },
  {
   "cell_type": "code",
   "execution_count": 25,
   "id": "afee1532",
   "metadata": {},
   "outputs": [],
   "source": [
    "def get_topk_avg(graph, new_edges, common, index_method):\n",
    "    counter = 0\n",
    "    for friend in common:\n",
    "        # top 10 and neighbors and find intersection between both\n",
    "        top_10 = set(index_method(graph, friend)[:10])\n",
    "        neighbor = get_network(new_edges, friend)\n",
    "        similar = (top_10).intersection(neighbor)\n",
    "        counter += len(similar) / len(neighbor)  \n",
    "    return counter/len(common) \n",
    "\n",
    "def top_k_recommendation_accuracy(graph: nx.Graph, index_method: Callable, new_edges) -> float:\n",
    "    \"\"\"\n",
    "    Among top k recommendations of every user, return average number \n",
    "    of recommendations that becomes reality\n",
    "    \n",
    "    :param graph: collaboration graph in nextworkX\n",
    "    :param index_method: function that is used to make recommendation\n",
    "    :param new_edges: (you decide)\n",
    "    :return: average accuracy of predictions among all users\n",
    "    \"\"\"\n",
    "    # inputs to degree\n",
    "    old_degree = graph.degree()\n",
    "    new_degree = new_edges.degree()\n",
    "    \n",
    "    # degree to array\n",
    "    common = get_intersection(old_degree, new_degree)\n",
    "    return get_topk_avg(graph, new_edges, common, index_method)\n"
   ]
  },
  {
   "cell_type": "code",
   "execution_count": 27,
   "id": "4ea2fc20",
   "metadata": {},
   "outputs": [],
   "source": [
    "def get_index_avg(graph, new_edges, both, index_method):\n",
    "    position = {}\n",
    "    for person in both:\n",
    "        friends = index_method(graph, person)\n",
    "        n = len(friends)\n",
    "        neighbor = get_network(new_edges, person)\n",
    "        \n",
    "        for people in neighbor:\n",
    "            if people in friends:\n",
    "                position[people] = friends.index(people) \n",
    "            else: position[people] = n+1 \n",
    "            \n",
    "    avg = sum(position.values()) / len(position.values())\n",
    "    return avg\n",
    "\n",
    "def new_collaboration_rank(graph: nx.Graph, index_method: Callable, new_edges) -> float:\n",
    "    \"\"\"\n",
    "    Among the new collaborations of every user, return average rank \n",
    "    of the collaboration calculated by the function\n",
    "    \n",
    "    :param graph: collaboration graph in nextworkX\n",
    "    :param index_method: function that is used to make recommendation\n",
    "    :param new_edges: (you decide)\n",
    "    :return: average accuracy of predictions among all users\n",
    "    \"\"\"\n",
    "    \n",
    "    old_degree = graph.degree()\n",
    "    new_degree = new_edges.degree()\n",
    "    \n",
    "    # degree to array\n",
    "    both = get_intersection(old_degree, new_degree)\n",
    "\n",
    "    return get_index_avg(graph, new_edges, both, index_method)\n",
    "    "
   ]
  },
  {
   "cell_type": "code",
   "execution_count": 26,
   "id": "a61d4b16",
   "metadata": {},
   "outputs": [
    {
     "name": "stdout",
     "output_type": "stream",
     "text": [
      "top_k_recommendation_accuracy:\n",
      "\n",
      "common_friends_number: 0.07443102996829495\n",
      "jaccard_index: 0.0502155346520294\n",
      "adamic_adar_index 0.0675579020264892\n"
     ]
    }
   ],
   "source": [
    "new_edges = read_old_edges('new_edges.txt')\n",
    "common = top_k_recommendation_accuracy(graph = old, new_edges = new_edges, index_method = common_friends_number)\n",
    "jac = top_k_recommendation_accuracy(graph = old, new_edges = new_edges, index_method = jaccard_index)\n",
    "ada = top_k_recommendation_accuracy(graph = old, new_edges = new_edges, index_method = adamic_adar_index)\n",
    "\n",
    "\n",
    "print('top_k_recommendation_accuracy:')\n",
    "print()\n",
    "print('common_friends_number:', common)\n",
    "print('jaccard_index:', jac)\n",
    "print('adamic_adar_index', ada)"
   ]
  },
  {
   "cell_type": "code",
   "execution_count": 29,
   "id": "4df7266a",
   "metadata": {},
   "outputs": [
    {
     "name": "stdout",
     "output_type": "stream",
     "text": [
      "new_collaboration_rank:\n",
      "\n",
      "common_friends_number: 97.4074074074074\n",
      "jaccard_index: 98.89711934156378\n",
      "adamic_adar_index 97.00411522633745\n"
     ]
    }
   ],
   "source": [
    "rank_common = new_collaboration_rank(graph = old, new_edges = new_edges, index_method = common_friends_number)\n",
    "rank_jac = new_collaboration_rank(graph = old, new_edges = new_edges, index_method = jaccard_index)\n",
    "rank_ada = new_collaboration_rank(graph = old, new_edges = new_edges, index_method = adamic_adar_index)\n",
    "\n",
    "print('new_collaboration_rank:')\n",
    "print()\n",
    "print('common_friends_number:', rank_common)\n",
    "print('jaccard_index:', rank_jac)\n",
    "print('adamic_adar_index', rank_ada)"
   ]
  },
  {
   "cell_type": "markdown",
   "id": "ba17d1f8",
   "metadata": {},
   "source": [
    "e) [**Bonus Question**] [2 pts.]\n",
    "Doing some literature search, suggest your own algorithm for recommend- ing new links to a user X. Argue about the choice you make, why it makes sense to suggest users that way? How is the efficiency of this algorithm, compared to the ones you implemented in parts (c), (d) and (e)?"
   ]
  },
  {
   "cell_type": "code",
   "execution_count": null,
   "id": "6e48cd2c",
   "metadata": {},
   "outputs": [],
   "source": []
  }
 ],
 "metadata": {
  "kernelspec": {
   "display_name": "Python 3",
   "language": "python",
   "name": "python3"
  },
  "language_info": {
   "codemirror_mode": {
    "name": "ipython",
    "version": 3
   },
   "file_extension": ".py",
   "mimetype": "text/x-python",
   "name": "python",
   "nbconvert_exporter": "python",
   "pygments_lexer": "ipython3",
   "version": "3.8.8"
  }
 },
 "nbformat": 4,
 "nbformat_minor": 5
}
